{
 "cells": [
  {
   "cell_type": "markdown",
   "metadata": {},
   "source": [
    "<center>\n",
    "    <img src=\"https://s3-api.us-geo.objectstorage.softlayer.net/cf-courses-data/CognitiveClass/Logos/organization_logo/organization_logo.png\" width=\"300\" alt=\"cognitiveclass.ai logo\"  />\n",
    "</center>\n"
   ]
  },
  {
   "cell_type": "markdown",
   "metadata": {},
   "source": [
    "#### Add your code below following the instructions given in the course\n"
   ]
  },
  {
   "cell_type": "markdown",
   "metadata": {},
   "source": [
    "<h1>My Jupyter Notebook on IBM Watson Studio</h1>"
   ]
  },
  {
   "cell_type": "markdown",
   "metadata": {},
   "source": [
    "<b>Chaitanya Yatin Shejwal</b>\n",
    "<br>Occupation - Student"
   ]
  },
  {
   "cell_type": "markdown",
   "metadata": {},
   "source": [
    "<i>I'm interested in data science because, it is the new art of storytelling, and at the end of the day, it sounds really cool to tell that, I'm a scientist, #Data_Scientist</i>"
   ]
  },
  {
   "cell_type": "markdown",
   "metadata": {},
   "source": [
    "<h3>The below code takes two number inputs from the user and returns the addition</h3>\n",
    "<br>\n",
    "The code doesn't handles any exceptions, assuming the user will enter valid values only."
   ]
  },
  {
   "cell_type": "code",
   "execution_count": 2,
   "metadata": {},
   "outputs": [
    {
     "name": "stdin",
     "output_type": "stream",
     "text": [
      "Enter number 1:  1\n",
      "Enter number 2:  2\n"
     ]
    },
    {
     "name": "stdout",
     "output_type": "stream",
     "text": [
      "Sum =  3\n"
     ]
    }
   ],
   "source": [
    "num1 = int(input(\"Enter number 1: \"))\n",
    "num2 = int(input(\"Enter number 2: \"))\n",
    "print(\"Sum = \", num1 + num2)"
   ]
  },
  {
   "cell_type": "markdown",
   "metadata": {
    "tags": []
   },
   "source": [
    "<h4>Tasks Status</h4>\n",
    "<br>\n",
    "<h4>Let's know about Yahoo and Google</h4>\n",
    "<table>\n",
    "    <tr>\n",
    "        <th>Name of the site</th>\n",
    "        <th>URL of the site</th>\n",
    "    </tr>\n",
    "    <tr>\n",
    "        <td>Google</td>\n",
    "        <td><a href=\"https://www.google.com\" title=\"Google\">Google</a></td>\n",
    "    </tr>\n",
    "    <tr>\n",
    "        <td>Yahoo</td>\n",
    "        <td><a href=\"https://www.yahoo.com\" title=\"Yahoo\">Yahoo</a></td>\n",
    "    </tr>\n",
    "</table>\n",
    "\n",
    "- Google products\n",
    "    - Gmail\n",
    "    - YouTube\n",
    "    - Classroom\n",
    "    - etc\n",
    "    \n",
    "- Yahoo Products\n",
    "    - Yahoo Address Book\n",
    "    - Yahoo Calendar\n",
    "    - Yahoo Groups\n",
    "    - etc"
   ]
  },
  {
   "cell_type": "code",
   "execution_count": null,
   "metadata": {},
   "outputs": [],
   "source": []
  }
 ],
 "metadata": {
  "kernelspec": {
   "display_name": "Python",
   "language": "python",
   "name": "conda-env-python-py"
  },
  "language_info": {
   "codemirror_mode": {
    "name": "ipython",
    "version": 3
   },
   "file_extension": ".py",
   "mimetype": "text/x-python",
   "name": "python",
   "nbconvert_exporter": "python",
   "pygments_lexer": "ipython3",
   "version": "3.7.12"
  }
 },
 "nbformat": 4,
 "nbformat_minor": 4
}
